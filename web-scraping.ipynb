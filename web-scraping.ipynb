{
 "cells": [
  {
   "cell_type": "markdown",
   "metadata": {},
   "source": [
    "## Webscraping\n",
    "\n",
    "El siguiente notebook tiene como fin mostrar una de las herramientas de extracción de datos que consiste en obtener información de manera sistemática y ordenada de sitios web.\n",
    "***\n",
    "\n"
   ]
  },
  {
   "cell_type": "markdown",
   "metadata": {},
   "source": [
    "#### Librerías\n",
    "\n",
    "El primer paso es llamar las librerías que se van a utilizar, las cuales dependen principalmente de los lenguajes utilizados (js, html, etc) en los portales web a explorar.\n",
    "\n",
    "De manera introductoria usaremos un paquete de envío de protocolos **requests**, una librería para la organización de la información **pandas** y finalmente nuestra herramienta principal **bs4**\n",
    "***"
   ]
  },
  {
   "cell_type": "code",
   "execution_count": 1,
   "metadata": {},
   "outputs": [],
   "source": [
    "from requests import get\n",
    "from bs4 import BeautifulSoup as bs\n",
    "import pandas as pd"
   ]
  },
  {
   "cell_type": "markdown",
   "metadata": {},
   "source": [
    "#### Selección y exploración\n",
    "El siguiente paso tiene que ver con la selección y exploración previa a realizar la extracción y un entendimiento de la página de la cual queremos extraer la información. Para este ejemplo usaremos el portal de la empresa de supermercados de grandes superficies Almacenes Éxito. https://www.exito.com. \n",
    "Aprovecharemos el buscador incorporado para realizar una busqueda específica, i.e. Celulares, de alguna categoría para recopilar todo el inventario con su precio y otros datos relevantes. \n",
    "***\n"
   ]
  },
  {
   "cell_type": "markdown",
   "metadata": {},
   "source": [
    "#### Especificación URL y request\n",
    "Luego de explorar el portal y ver qué nos interesa, podemos crear una variable especificando el url de interés  y continuar haciendo un request del contenido en dicha dirección."
   ]
  },
  {
   "cell_type": "code",
   "execution_count": 2,
   "metadata": {},
   "outputs": [
    {
     "data": {
      "text/plain": [
       "requests.models.Response"
      ]
     },
     "execution_count": 2,
     "metadata": {},
     "output_type": "execute_result"
    }
   ],
   "source": [
    "url = \"https://www.exito.com/browse/Tecnologia-Celulares_y_accesorios/_/N-2b5r\"\n",
    "html = get(url)\n",
    "type(html)"
   ]
  },
  {
   "cell_type": "markdown",
   "metadata": {},
   "source": [
    "Como podemos observar, 'html' es ahora un objeto de la clase models.Response que tiene distintos atributos. El que nos interesa es el atributo 'content' que contiene todo el código html del portal. Lo que sigue es convertir ese contenido en objetos manipulables en python mediante la librería de bs4.\n",
    "\n",
    "#### Utilizando el parser y creando los objetos para manipular\n",
    "***"
   ]
  },
  {
   "cell_type": "code",
   "execution_count": 3,
   "metadata": {},
   "outputs": [
    {
     "data": {
      "text/plain": [
       "bs4.BeautifulSoup"
      ]
     },
     "execution_count": 3,
     "metadata": {},
     "output_type": "execute_result"
    }
   ],
   "source": [
    "soup = bs(html.content,'html.parser')\n",
    "type(soup)"
   ]
  },
  {
   "cell_type": "markdown",
   "metadata": {},
   "source": [
    "Al tener un objeto de tipo bs4.BeautifulSoup podemos manipular y acceder sus diferentes atributos. Para eso debemos identificar qué datos queremos extraer y cuáles son las etiquetas de los objetos que los contienen. En este caso, sabemos que los productos están guardados en distintas etiquetas 'div' con varias clases, por eso usaremos la clase 'product' que generaliza las distintas clases para poder crear una lista que contenga todos los productos."
   ]
  },
  {
   "cell_type": "code",
   "execution_count": 4,
   "metadata": {},
   "outputs": [
    {
     "data": {
      "text/plain": [
       "20"
      ]
     },
     "execution_count": 4,
     "metadata": {},
     "output_type": "execute_result"
    }
   ],
   "source": [
    "products = soup.find_all('div', class_ = \"product\")\n",
    "len(products)"
   ]
  },
  {
   "cell_type": "markdown",
   "metadata": {},
   "source": [
    "Para entender un poco como funciona la librería cogeremos uno de los elementos de este set de resultados obtenidos al encontrar los 'div' de clase 'product' en 'soup' y encontraremos las diferentes etiquetas que nos interesan de los datos. En este caso vamos a extraer los nombres de los productos, la marca de los fabricantes, el precio y el descuento si es que lo hay."
   ]
  },
  {
   "cell_type": "code",
   "execution_count": 5,
   "metadata": {},
   "outputs": [
    {
     "data": {
      "text/plain": [
       "'Celular Motorola Moto Z2 Play 4gb 64gb 5.5 + Mod Bater A - www.exito.com'"
      ]
     },
     "execution_count": 5,
     "metadata": {},
     "output_type": "execute_result"
    }
   ],
   "source": [
    "productTest = products[0]\n",
    "productTest.a['title']"
   ]
  },
  {
   "cell_type": "code",
   "execution_count": 6,
   "metadata": {},
   "outputs": [
    {
     "data": {
      "text/plain": [
       "<span class=\"brand\">MOTOROLA</span>"
      ]
     },
     "execution_count": 6,
     "metadata": {},
     "output_type": "execute_result"
    }
   ],
   "source": [
    "productTest.find('span', class_=\"brand\")"
   ]
  },
  {
   "cell_type": "markdown",
   "metadata": {},
   "source": [
    "En este caso debemos acceder al atributo string de la etiqueta para extraer únicamente el texto de esta. "
   ]
  },
  {
   "cell_type": "code",
   "execution_count": 7,
   "metadata": {},
   "outputs": [
    {
     "data": {
      "text/plain": [
       "'MOTOROLA'"
      ]
     },
     "execution_count": 7,
     "metadata": {},
     "output_type": "execute_result"
    }
   ],
   "source": [
    "productTest.find('span', class_=\"brand\").string"
   ]
  },
  {
   "cell_type": "code",
   "execution_count": 8,
   "metadata": {},
   "outputs": [
    {
     "data": {
      "text/plain": [
       "'1199940'"
      ]
     },
     "execution_count": 8,
     "metadata": {},
     "output_type": "execute_result"
    }
   ],
   "source": [
    "productTest.find('span', class_=\"money\").text"
   ]
  },
  {
   "cell_type": "code",
   "execution_count": 9,
   "metadata": {},
   "outputs": [
    {
     "data": {
      "text/plain": [
       "'\\r\\n\\t\\t\\t\\t\\t\\t\\t\\t\\t\\t\\t\\t\\t40'"
      ]
     },
     "execution_count": 9,
     "metadata": {},
     "output_type": "execute_result"
    }
   ],
   "source": [
    "productTest.find('div', class_ = \"discount-rate\").text"
   ]
  },
  {
   "cell_type": "markdown",
   "metadata": {},
   "source": [
    "Ya tenemos las diferentes etiquetas que necesitamos para obtener los datos que queremos. El siguiente paso tiene que ver con recorrer todos los diferentes objetos dentro de 'products' y asignar los valores que encontremos a un vector que los guarde para usarlos más adelante. "
   ]
  },
  {
   "cell_type": "code",
   "execution_count": 10,
   "metadata": {},
   "outputs": [],
   "source": [
    "items = []\n",
    "brands = []\n",
    "prices = []\n",
    "discounts = []\n",
    "\n",
    "for product in products:\n",
    "    item = product.a['title'][:-18]\n",
    "    brand = product.find('span', class_=\"brand\").string\n",
    "    price = product.find('span', class_=\"money\").string\n",
    "    if(product.find('div', class_ = \"discount-rate\") != None):\n",
    "        discount = product.find('div', class_ = \"discount-rate\").string\n",
    "    else:\n",
    "        discount = \"-\"\n",
    "    items.append(item)\n",
    "    brands.append(brand)\n",
    "    prices.append(price)\n",
    "    discounts.append(discount)        \n",
    "    "
   ]
  },
  {
   "cell_type": "code",
   "execution_count": 11,
   "metadata": {},
   "outputs": [
    {
     "data": {
      "text/html": [
       "<div>\n",
       "<style scoped>\n",
       "    .dataframe tbody tr th:only-of-type {\n",
       "        vertical-align: middle;\n",
       "    }\n",
       "\n",
       "    .dataframe tbody tr th {\n",
       "        vertical-align: top;\n",
       "    }\n",
       "\n",
       "    .dataframe thead th {\n",
       "        text-align: right;\n",
       "    }\n",
       "</style>\n",
       "<table border=\"1\" class=\"dataframe\">\n",
       "  <thead>\n",
       "    <tr style=\"text-align: right;\">\n",
       "      <th></th>\n",
       "      <th>Items</th>\n",
       "      <th>Brands</th>\n",
       "      <th>Prices</th>\n",
       "      <th>Discounts (%)</th>\n",
       "    </tr>\n",
       "  </thead>\n",
       "  <tbody>\n",
       "    <tr>\n",
       "      <th>0</th>\n",
       "      <td>Celular Motorola Moto Z2 Play 4gb 64gb 5.5 + M...</td>\n",
       "      <td>MOTOROLA</td>\n",
       "      <td>1199940</td>\n",
       "      <td>40</td>\n",
       "    </tr>\n",
       "    <tr>\n",
       "      <th>1</th>\n",
       "      <td>Motorola One Blan</td>\n",
       "      <td>MOTOROLA</td>\n",
       "      <td>629932</td>\n",
       "      <td>51</td>\n",
       "    </tr>\n",
       "    <tr>\n",
       "      <th>2</th>\n",
       "      <td>Moto Z3 Play Azul Indi</td>\n",
       "      <td>MOTOROLA</td>\n",
       "      <td>1499925</td>\n",
       "      <td>25</td>\n",
       "    </tr>\n",
       "    <tr>\n",
       "      <th>3</th>\n",
       "      <td>Iphone 6 De 32 Gb Go</td>\n",
       "      <td>APPLE</td>\n",
       "      <td>949057</td>\n",
       "      <td>26</td>\n",
       "    </tr>\n",
       "    <tr>\n",
       "      <th>4</th>\n",
       "      <td>Celular Asus Zenfone 5z Negro 6gb 64gb 6.2 Pulgad</td>\n",
       "      <td>ASUS</td>\n",
       "      <td>1459119</td>\n",
       "      <td>47</td>\n",
       "    </tr>\n",
       "  </tbody>\n",
       "</table>\n",
       "</div>"
      ],
      "text/plain": [
       "                                               Items    Brands   Prices  \\\n",
       "0  Celular Motorola Moto Z2 Play 4gb 64gb 5.5 + M...  MOTOROLA  1199940   \n",
       "1                                  Motorola One Blan  MOTOROLA   629932   \n",
       "2                             Moto Z3 Play Azul Indi  MOTOROLA  1499925   \n",
       "3                               Iphone 6 De 32 Gb Go     APPLE   949057   \n",
       "4  Celular Asus Zenfone 5z Negro 6gb 64gb 6.2 Pulgad      ASUS  1459119   \n",
       "\n",
       "       Discounts (%)  \n",
       "0  \n",
       "\t\t\t\t\t\t\t\t\t\t\t\t\t40  \n",
       "1  \n",
       "\t\t\t\t\t\t\t\t\t\t\t\t\t51  \n",
       "2  \n",
       "\t\t\t\t\t\t\t\t\t\t\t\t\t25  \n",
       "3  \n",
       "\t\t\t\t\t\t\t\t\t\t\t\t\t26  \n",
       "4  \n",
       "\t\t\t\t\t\t\t\t\t\t\t\t\t47  "
      ]
     },
     "execution_count": 11,
     "metadata": {},
     "output_type": "execute_result"
    }
   ],
   "source": [
    "df = pd.DataFrame({\"Items\": items,\n",
    "                   \"Brands\": brands,\n",
    "                   \"Prices\": prices,\n",
    "                   \"Discounts (%)\": discounts})\n",
    "\n",
    "df.head()"
   ]
  },
  {
   "cell_type": "markdown",
   "metadata": {},
   "source": [
    "Por último, exportaremos los datos encontrados a una tabla 'xlsx'."
   ]
  },
  {
   "cell_type": "code",
   "execution_count": 12,
   "metadata": {},
   "outputs": [],
   "source": [
    "df.to_excel(\"exito.xlsx\")"
   ]
  }
 ],
 "metadata": {
  "kernelspec": {
   "display_name": "Python 3",
   "language": "python",
   "name": "python3"
  },
  "language_info": {
   "codemirror_mode": {
    "name": "ipython",
    "version": 3
   },
   "file_extension": ".py",
   "mimetype": "text/x-python",
   "name": "python",
   "nbconvert_exporter": "python",
   "pygments_lexer": "ipython3",
   "version": "3.7.0"
  },
  "widgets": {
   "application/vnd.jupyter.widget-state+json": {
    "state": {},
    "version_major": 2,
    "version_minor": 0
   }
  }
 },
 "nbformat": 4,
 "nbformat_minor": 2
}
